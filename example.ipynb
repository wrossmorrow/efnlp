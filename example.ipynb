{
 "cells": [
  {
   "cell_type": "code",
   "execution_count": 1,
   "id": "a9a09dca",
   "metadata": {},
   "outputs": [],
   "source": [
    "from __future__ import annotations\n",
    "\n",
    "from collections import Counter\n",
    "from random import randint, choice, choices\n",
    "from time import time\n",
    "\n",
    "from efnlp import CharLanguage, SuffixTree, SuffixTreeSet"
   ]
  },
  {
   "cell_type": "code",
   "execution_count": 2,
   "id": "7769e3e8",
   "metadata": {},
   "outputs": [
    {
     "data": {
      "text/plain": [
       "SuffixTree(token=2, children={2: SuffixTree(token=2, children={1: SuffixTree(token=1, children={0: SuffixTree(token=0, children={}, nexts={3: Target(token=3, count=1, probability=0.0)}, sampler=[[], []])}, nexts={3: Target(token=3, count=1, probability=0.0)}, sampler=[[], []])}, nexts={3: Target(token=3, count=1, probability=0.0)}, sampler=[[], []])}, nexts={3: Target(token=3, count=1, probability=0.0)}, sampler=[[], []])"
      ]
     },
     "execution_count": 2,
     "metadata": {},
     "output_type": "execute_result"
    }
   ],
   "source": [
    "SuffixTree(2).parse([0,1,2], 3)"
   ]
  },
  {
   "cell_type": "code",
   "execution_count": 3,
   "id": "115e3702",
   "metadata": {},
   "outputs": [
    {
     "data": {
      "text/plain": [
       "SuffixTreeSet(size=10, trees=[SuffixTree(token=0, children={7: SuffixTree(token=7, children={2: SuffixTree(token=2, children={}, nexts={1: Target(token=1, count=1, probability=1.0)}, sampler=[[1], [1.0]])}, nexts={1: Target(token=1, count=1, probability=1.0)}, sampler=[[1], [1.0]]), 8: SuffixTree(token=8, children={3: SuffixTree(token=3, children={}, nexts={8: Target(token=8, count=1, probability=1.0)}, sampler=[[8], [1.0]]), 4: SuffixTree(token=4, children={}, nexts={5: Target(token=5, count=1, probability=1.0)}, sampler=[[5], [1.0]])}, nexts={8: Target(token=8, count=1, probability=0.5), 5: Target(token=5, count=1, probability=0.5)}, sampler=[[8, 5], [0.5, 0.5]]), 4: SuffixTree(token=4, children={6: SuffixTree(token=6, children={}, nexts={6: Target(token=6, count=1, probability=1.0)}, sampler=[[6], [1.0]])}, nexts={6: Target(token=6, count=1, probability=1.0)}, sampler=[[6], [1.0]]), 6: SuffixTree(token=6, children={0: SuffixTree(token=0, children={}, nexts={5: Target(token=5, count=1, probability=1.0)}, sampler=[[5], [1.0]]), 1: SuffixTree(token=1, children={}, nexts={3: Target(token=3, count=1, probability=1.0)}, sampler=[[3], [1.0]])}, nexts={5: Target(token=5, count=1, probability=0.5), 3: Target(token=3, count=1, probability=0.5)}, sampler=[[5, 3], [0.5, 0.5]]), 1: SuffixTree(token=1, children={5: SuffixTree(token=5, children={}, nexts={3: Target(token=3, count=1, probability=0.5), 6: Target(token=6, count=1, probability=0.5)}, sampler=[[3, 6], [0.5, 0.5]])}, nexts={3: Target(token=3, count=1, probability=0.5), 6: Target(token=6, count=1, probability=0.5)}, sampler=[[3, 6], [0.5, 0.5]]), 2: SuffixTree(token=2, children={3: SuffixTree(token=3, children={}, nexts={8: Target(token=8, count=1, probability=0.5), 9: Target(token=9, count=1, probability=0.5)}, sampler=[[8, 9], [0.5, 0.5]]), 8: SuffixTree(token=8, children={}, nexts={5: Target(token=5, count=1, probability=1.0)}, sampler=[[5], [1.0]])}, nexts={8: Target(token=8, count=1, probability=0.3333333333333333), 5: Target(token=5, count=1, probability=0.3333333333333333), 9: Target(token=9, count=1, probability=0.3333333333333333)}, sampler=[[8, 5, 9], [0.3333333333333333, 0.3333333333333333, 0.3333333333333333]]), 9: SuffixTree(token=9, children={0: SuffixTree(token=0, children={}, nexts={5: Target(token=5, count=1, probability=1.0)}, sampler=[[5], [1.0]])}, nexts={5: Target(token=5, count=1, probability=1.0)}, sampler=[[5], [1.0]])}, nexts={1: Target(token=1, count=1, probability=0.08333333333333333), 8: Target(token=8, count=2, probability=0.16666666666666666), 6: Target(token=6, count=2, probability=0.16666666666666666), 5: Target(token=5, count=4, probability=0.3333333333333333), 3: Target(token=3, count=2, probability=0.16666666666666666), 9: Target(token=9, count=1, probability=0.08333333333333333)}, sampler=[[1, 8, 6, 5, 3, 9], [0.08333333333333333, 0.16666666666666666, 0.16666666666666666, 0.3333333333333333, 0.16666666666666666, 0.08333333333333333]]), SuffixTree(token=1, children={4: SuffixTree(token=4, children={6: SuffixTree(token=6, children={}, nexts={5: Target(token=5, count=1, probability=1.0)}, sampler=[[5], [1.0]]), 9: SuffixTree(token=9, children={}, nexts={1: Target(token=1, count=1, probability=1.0)}, sampler=[[1], [1.0]])}, nexts={5: Target(token=5, count=1, probability=0.5), 1: Target(token=1, count=1, probability=0.5)}, sampler=[[5, 1], [0.5, 0.5]]), 8: SuffixTree(token=8, children={7: SuffixTree(token=7, children={}, nexts={6: Target(token=6, count=1, probability=1.0)}, sampler=[[6], [1.0]]), 1: SuffixTree(token=1, children={}, nexts={5: Target(token=5, count=1, probability=1.0)}, sampler=[[5], [1.0]])}, nexts={6: Target(token=6, count=1, probability=0.5), 5: Target(token=5, count=1, probability=0.5)}, sampler=[[6, 5], [0.5, 0.5]]), 6: SuffixTree(token=6, children={1: SuffixTree(token=1, children={}, nexts={6: Target(token=6, count=1, probability=1.0)}, sampler=[[6], [1.0]]), 5: SuffixTree(token=5, children={}, nexts={4: Target(token=4, count=1, probability=1.0)}, sampler=[[4], [1.0]]), 6: SuffixTree(token=6, children={}, nexts={8: Target(token=8, count=1, probability=1.0)}, sampler=[[8], [1.0]])}, nexts={6: Target(token=6, count=1, probability=0.3333333333333333), 4: Target(token=4, count=1, probability=0.3333333333333333), 8: Target(token=8, count=1, probability=0.3333333333333333)}, sampler=[[6, 4, 8], [0.3333333333333333, 0.3333333333333333, 0.3333333333333333]]), 0: SuffixTree(token=0, children={7: SuffixTree(token=7, children={}, nexts={6: Target(token=6, count=1, probability=1.0)}, sampler=[[6], [1.0]])}, nexts={6: Target(token=6, count=1, probability=1.0)}, sampler=[[6], [1.0]]), 5: SuffixTree(token=5, children={9: SuffixTree(token=9, children={}, nexts={0: Target(token=0, count=1, probability=1.0)}, sampler=[[0], [1.0]]), 5: SuffixTree(token=5, children={}, nexts={3: Target(token=3, count=1, probability=1.0)}, sampler=[[3], [1.0]]), 0: SuffixTree(token=0, children={}, nexts={0: Target(token=0, count=1, probability=1.0)}, sampler=[[0], [1.0]])}, nexts={0: Target(token=0, count=2, probability=0.6666666666666666), 3: Target(token=3, count=1, probability=0.3333333333333333)}, sampler=[[0, 3], [0.6666666666666666, 0.3333333333333333]]), 9: SuffixTree(token=9, children={6: SuffixTree(token=6, children={}, nexts={1: Target(token=1, count=1, probability=1.0)}, sampler=[[1], [1.0]]), 4: SuffixTree(token=4, children={}, nexts={6: Target(token=6, count=1, probability=1.0)}, sampler=[[6], [1.0]]), 5: SuffixTree(token=5, children={}, nexts={7: Target(token=7, count=1, probability=1.0)}, sampler=[[7], [1.0]]), 9: SuffixTree(token=9, children={}, nexts={2: Target(token=2, count=1, probability=1.0)}, sampler=[[2], [1.0]])}, nexts={1: Target(token=1, count=1, probability=0.25), 6: Target(token=6, count=1, probability=0.25), 7: Target(token=7, count=1, probability=0.25), 2: Target(token=2, count=1, probability=0.25)}, sampler=[[1, 6, 7, 2], [0.25, 0.25, 0.25, 0.25]]), 1: SuffixTree(token=1, children={9: SuffixTree(token=9, children={}, nexts={3: Target(token=3, count=1, probability=1.0)}, sampler=[[3], [1.0]]), 4: SuffixTree(token=4, children={}, nexts={4: Target(token=4, count=1, probability=1.0)}, sampler=[[4], [1.0]])}, nexts={3: Target(token=3, count=1, probability=0.5), 4: Target(token=4, count=1, probability=0.5)}, sampler=[[3, 4], [0.5, 0.5]]), 3: SuffixTree(token=3, children={1: SuffixTree(token=1, children={}, nexts={6: Target(token=6, count=1, probability=1.0)}, sampler=[[6], [1.0]]), 0: SuffixTree(token=0, children={}, nexts={4: Target(token=4, count=1, probability=1.0)}, sampler=[[4], [1.0]])}, nexts={6: Target(token=6, count=1, probability=0.5), 4: Target(token=4, count=1, probability=0.5)}, sampler=[[6, 4], [0.5, 0.5]]), 2: SuffixTree(token=2, children={9: SuffixTree(token=9, children={}, nexts={5: Target(token=5, count=1, probability=1.0)}, sampler=[[5], [1.0]])}, nexts={5: Target(token=5, count=1, probability=1.0)}, sampler=[[5], [1.0]]), 7: SuffixTree(token=7, children={1: SuffixTree(token=1, children={}, nexts={3: Target(token=3, count=1, probability=1.0)}, sampler=[[3], [1.0]])}, nexts={3: Target(token=3, count=1, probability=1.0)}, sampler=[[3], [1.0]])}, nexts={5: Target(token=5, count=3, probability=0.14285714285714285), 6: Target(token=6, count=5, probability=0.23809523809523808), 4: Target(token=4, count=3, probability=0.14285714285714285), 0: Target(token=0, count=2, probability=0.09523809523809523), 1: Target(token=1, count=2, probability=0.09523809523809523), 3: Target(token=3, count=3, probability=0.14285714285714285), 7: Target(token=7, count=1, probability=0.047619047619047616), 2: Target(token=2, count=1, probability=0.047619047619047616), 8: Target(token=8, count=1, probability=0.047619047619047616)}, sampler=[[5, 6, 4, 0, 1, 3, 7, 2, 8], [0.14285714285714285, 0.23809523809523808, 0.14285714285714285, 0.09523809523809523, 0.09523809523809523, 0.14285714285714285, 0.047619047619047616, 0.047619047619047616, 0.047619047619047616]]), SuffixTree(token=2, children={9: SuffixTree(token=9, children={7: SuffixTree(token=7, children={}, nexts={7: Target(token=7, count=1, probability=1.0)}, sampler=[[7], [1.0]]), 5: SuffixTree(token=5, children={}, nexts={8: Target(token=8, count=1, probability=1.0)}, sampler=[[8], [1.0]]), 2: SuffixTree(token=2, children={}, nexts={1: Target(token=1, count=1, probability=1.0)}, sampler=[[1], [1.0]])}, nexts={7: Target(token=7, count=1, probability=0.3333333333333333), 8: Target(token=8, count=1, probability=0.3333333333333333), 1: Target(token=1, count=1, probability=0.3333333333333333)}, sampler=[[7, 8, 1], [0.3333333333333333, 0.3333333333333333, 0.3333333333333333]]), 3: SuffixTree(token=3, children={0: SuffixTree(token=0, children={}, nexts={0: Target(token=0, count=1, probability=1.0)}, sampler=[[0], [1.0]]), 3: SuffixTree(token=3, children={}, nexts={7: Target(token=7, count=1, probability=1.0)}, sampler=[[7], [1.0]]), 9: SuffixTree(token=9, children={}, nexts={0: Target(token=0, count=1, probability=1.0)}, sampler=[[0], [1.0]])}, nexts={0: Target(token=0, count=2, probability=0.6666666666666666), 7: Target(token=7, count=1, probability=0.3333333333333333)}, sampler=[[0, 7], [0.6666666666666666, 0.3333333333333333]]), 7: SuffixTree(token=7, children={4: SuffixTree(token=4, children={}, nexts={8: Target(token=8, count=1, probability=1.0)}, sampler=[[8], [1.0]]), 5: SuffixTree(token=5, children={}, nexts={9: Target(token=9, count=1, probability=1.0)}, sampler=[[9], [1.0]])}, nexts={8: Target(token=8, count=1, probability=0.5), 9: Target(token=9, count=1, probability=0.5)}, sampler=[[8, 9], [0.5, 0.5]]), 8: SuffixTree(token=8, children={2: SuffixTree(token=2, children={}, nexts={0: Target(token=0, count=1, probability=1.0)}, sampler=[[0], [1.0]])}, nexts={0: Target(token=0, count=1, probability=1.0)}, sampler=[[0], [1.0]]), 4: SuffixTree(token=4, children={4: SuffixTree(token=4, children={}, nexts={7: Target(token=7, count=1, probability=1.0)}, sampler=[[7], [1.0]])}, nexts={7: Target(token=7, count=1, probability=1.0)}, sampler=[[7], [1.0]]), 1: SuffixTree(token=1, children={9: SuffixTree(token=9, children={}, nexts={9: Target(token=9, count=1, probability=1.0)}, sampler=[[9], [1.0]])}, nexts={9: Target(token=9, count=1, probability=1.0)}, sampler=[[9], [1.0]])}, nexts={7: Target(token=7, count=3, probability=0.2727272727272727), 0: Target(token=0, count=3, probability=0.2727272727272727), 8: Target(token=8, count=2, probability=0.18181818181818182), 9: Target(token=9, count=2, probability=0.18181818181818182), 1: Target(token=1, count=1, probability=0.09090909090909091)}, sampler=[[7, 0, 8, 9, 1], [0.2727272727272727, 0.2727272727272727, 0.18181818181818182, 0.18181818181818182, 0.09090909090909091]]), SuffixTree(token=3, children={6: SuffixTree(token=6, children={1: SuffixTree(token=1, children={}, nexts={7: Target(token=7, count=1, probability=1.0)}, sampler=[[7], [1.0]])}, nexts={7: Target(token=7, count=1, probability=1.0)}, sampler=[[7], [1.0]]), 5: SuffixTree(token=5, children={9: SuffixTree(token=9, children={}, nexts={8: Target(token=8, count=1, probability=1.0)}, sampler=[[8], [1.0]])}, nexts={8: Target(token=8, count=1, probability=1.0)}, sampler=[[8], [1.0]]), 0: SuffixTree(token=0, children={1: SuffixTree(token=1, children={}, nexts={2: Target(token=2, count=1, probability=1.0)}, sampler=[[2], [1.0]]), 6: SuffixTree(token=6, children={}, nexts={1: Target(token=1, count=1, probability=1.0)}, sampler=[[1], [1.0]])}, nexts={2: Target(token=2, count=1, probability=0.5), 1: Target(token=1, count=1, probability=0.5)}, sampler=[[2, 1], [0.5, 0.5]]), 1: SuffixTree(token=1, children={1: SuffixTree(token=1, children={}, nexts={1: Target(token=1, count=1, probability=1.0)}, sampler=[[1], [1.0]]), 5: SuffixTree(token=5, children={}, nexts={3: Target(token=3, count=1, probability=1.0)}, sampler=[[3], [1.0]]), 7: SuffixTree(token=7, children={}, nexts={3: Target(token=3, count=1, probability=1.0)}, sampler=[[3], [1.0]])}, nexts={1: Target(token=1, count=1, probability=0.3333333333333333), 3: Target(token=3, count=2, probability=0.6666666666666666)}, sampler=[[1, 3], [0.3333333333333333, 0.6666666666666666]]), 3: SuffixTree(token=3, children={1: SuffixTree(token=1, children={}, nexts={3: Target(token=3, count=2, probability=1.0)}, sampler=[[3], [1.0]]), 3: SuffixTree(token=3, children={}, nexts={2: Target(token=2, count=1, probability=0.5), 9: Target(token=9, count=1, probability=0.5)}, sampler=[[2, 9], [0.5, 0.5]])}, nexts={3: Target(token=3, count=2, probability=0.5), 2: Target(token=2, count=1, probability=0.25), 9: Target(token=9, count=1, probability=0.25)}, sampler=[[3, 2, 9], [0.5, 0.25, 0.25]]), 4: SuffixTree(token=4, children={7: SuffixTree(token=7, children={}, nexts={9: Target(token=9, count=1, probability=1.0)}, sampler=[[9], [1.0]])}, nexts={9: Target(token=9, count=1, probability=1.0)}, sampler=[[9], [1.0]]), 9: SuffixTree(token=9, children={3: SuffixTree(token=3, children={}, nexts={2: Target(token=2, count=1, probability=1.0)}, sampler=[[2], [1.0]])}, nexts={2: Target(token=2, count=1, probability=1.0)}, sampler=[[2], [1.0]])}, nexts={7: Target(token=7, count=1, probability=0.07692307692307693), 8: Target(token=8, count=1, probability=0.07692307692307693), 2: Target(token=2, count=3, probability=0.23076923076923078), 1: Target(token=1, count=2, probability=0.15384615384615385), 3: Target(token=3, count=4, probability=0.3076923076923077), 9: Target(token=9, count=2, probability=0.15384615384615385)}, sampler=[[7, 8, 2, 1, 3, 9], [0.07692307692307693, 0.07692307692307693, 0.23076923076923078, 0.15384615384615385, 0.3076923076923077, 0.15384615384615385]]), SuffixTree(token=4, children={6: SuffixTree(token=6, children={8: SuffixTree(token=8, children={}, nexts={0: Target(token=0, count=1, probability=1.0)}, sampler=[[0], [1.0]])}, nexts={0: Target(token=0, count=1, probability=1.0)}, sampler=[[0], [1.0]]), 1: SuffixTree(token=1, children={6: SuffixTree(token=6, children={}, nexts={9: Target(token=9, count=1, probability=1.0)}, sampler=[[9], [1.0]]), 3: SuffixTree(token=3, children={}, nexts={9: Target(token=9, count=1, probability=1.0)}, sampler=[[9], [1.0]]), 1: SuffixTree(token=1, children={}, nexts={4: Target(token=4, count=1, probability=1.0)}, sampler=[[4], [1.0]])}, nexts={9: Target(token=9, count=2, probability=0.6666666666666666), 4: Target(token=4, count=1, probability=0.3333333333333333)}, sampler=[[9, 4], [0.6666666666666666, 0.3333333333333333]]), 7: SuffixTree(token=7, children={7: SuffixTree(token=7, children={}, nexts={8: Target(token=8, count=1, probability=1.0)}, sampler=[[8], [1.0]]), 2: SuffixTree(token=2, children={}, nexts={4: Target(token=4, count=1, probability=1.0)}, sampler=[[4], [1.0]]), 8: SuffixTree(token=8, children={}, nexts={3: Target(token=3, count=1, probability=1.0)}, sampler=[[3], [1.0]])}, nexts={8: Target(token=8, count=1, probability=0.3333333333333333), 4: Target(token=4, count=1, probability=0.3333333333333333), 3: Target(token=3, count=1, probability=0.3333333333333333)}, sampler=[[8, 4, 3], [0.3333333333333333, 0.3333333333333333, 0.3333333333333333]]), 8: SuffixTree(token=8, children={8: SuffixTree(token=8, children={}, nexts={9: Target(token=9, count=1, probability=1.0)}, sampler=[[9], [1.0]])}, nexts={9: Target(token=9, count=1, probability=1.0)}, sampler=[[9], [1.0]]), 9: SuffixTree(token=9, children={4: SuffixTree(token=4, children={}, nexts={7: Target(token=7, count=1, probability=1.0)}, sampler=[[7], [1.0]]), 6: SuffixTree(token=6, children={}, nexts={1: Target(token=1, count=1, probability=1.0)}, sampler=[[1], [1.0]])}, nexts={7: Target(token=7, count=1, probability=0.5), 1: Target(token=1, count=1, probability=0.5)}, sampler=[[7, 1], [0.5, 0.5]]), 5: SuffixTree(token=5, children={6: SuffixTree(token=6, children={}, nexts={8: Target(token=8, count=1, probability=1.0)}, sampler=[[8], [1.0]])}, nexts={8: Target(token=8, count=1, probability=1.0)}, sampler=[[8], [1.0]]), 4: SuffixTree(token=4, children={7: SuffixTree(token=7, children={}, nexts={8: Target(token=8, count=1, probability=1.0)}, sampler=[[8], [1.0]]), 1: SuffixTree(token=1, children={}, nexts={2: Target(token=2, count=1, probability=1.0)}, sampler=[[2], [1.0]])}, nexts={8: Target(token=8, count=1, probability=0.5), 2: Target(token=2, count=1, probability=0.5)}, sampler=[[8, 2], [0.5, 0.5]])}, nexts={0: Target(token=0, count=1, probability=0.07692307692307693), 9: Target(token=9, count=3, probability=0.23076923076923078), 8: Target(token=8, count=3, probability=0.23076923076923078), 7: Target(token=7, count=1, probability=0.07692307692307693), 4: Target(token=4, count=2, probability=0.15384615384615385), 1: Target(token=1, count=1, probability=0.07692307692307693), 2: Target(token=2, count=1, probability=0.07692307692307693), 3: Target(token=3, count=1, probability=0.07692307692307693)}, sampler=[[0, 9, 8, 7, 4, 1, 2, 3], [0.07692307692307693, 0.23076923076923078, 0.23076923076923078, 0.07692307692307693, 0.15384615384615385, 0.07692307692307693, 0.07692307692307693, 0.07692307692307693]]), SuffixTree(token=5, children={1: SuffixTree(token=1, children={4: SuffixTree(token=4, children={}, nexts={8: Target(token=8, count=1, probability=1.0)}, sampler=[[8], [1.0]]), 2: SuffixTree(token=2, children={}, nexts={5: Target(token=5, count=1, probability=1.0)}, sampler=[[5], [1.0]]), 8: SuffixTree(token=8, children={}, nexts={3: Target(token=3, count=1, probability=1.0)}, sampler=[[3], [1.0]])}, nexts={8: Target(token=8, count=1, probability=0.3333333333333333), 5: Target(token=5, count=1, probability=0.3333333333333333), 3: Target(token=3, count=1, probability=0.3333333333333333)}, sampler=[[8, 5, 3], [0.3333333333333333, 0.3333333333333333, 0.3333333333333333]]), 6: SuffixTree(token=6, children={1: SuffixTree(token=1, children={}, nexts={9: Target(token=9, count=1, probability=0.5), 4: Target(token=4, count=1, probability=0.5)}, sampler=[[9, 4], [0.5, 0.5]]), 0: SuffixTree(token=0, children={}, nexts={6: Target(token=6, count=1, probability=1.0)}, sampler=[[6], [1.0]])}, nexts={9: Target(token=9, count=1, probability=0.3333333333333333), 4: Target(token=4, count=1, probability=0.3333333333333333), 6: Target(token=6, count=1, probability=0.3333333333333333)}, sampler=[[9, 4, 6], [0.3333333333333333, 0.3333333333333333, 0.3333333333333333]]), 9: SuffixTree(token=9, children={5: SuffixTree(token=5, children={}, nexts={3: Target(token=3, count=1, probability=1.0)}, sampler=[[3], [1.0]]), 4: SuffixTree(token=4, children={}, nexts={9: Target(token=9, count=1, probability=1.0)}, sampler=[[9], [1.0]]), 9: SuffixTree(token=9, children={}, nexts={1: Target(token=1, count=1, probability=1.0)}, sampler=[[1], [1.0]])}, nexts={3: Target(token=3, count=1, probability=0.3333333333333333), 9: Target(token=9, count=1, probability=0.3333333333333333), 1: Target(token=1, count=1, probability=0.3333333333333333)}, sampler=[[3, 9, 1], [0.3333333333333333, 0.3333333333333333, 0.3333333333333333]]), 0: SuffixTree(token=0, children={6: SuffixTree(token=6, children={}, nexts={6: Target(token=6, count=1, probability=1.0)}, sampler=[[6], [1.0]]), 8: SuffixTree(token=8, children={}, nexts={9: Target(token=9, count=1, probability=1.0)}, sampler=[[9], [1.0]]), 2: SuffixTree(token=2, children={}, nexts={7: Target(token=7, count=1, probability=1.0)}, sampler=[[7], [1.0]]), 9: SuffixTree(token=9, children={}, nexts={1: Target(token=1, count=1, probability=1.0)}, sampler=[[1], [1.0]])}, nexts={6: Target(token=6, count=1, probability=0.25), 9: Target(token=9, count=1, probability=0.25), 7: Target(token=7, count=1, probability=0.25), 1: Target(token=1, count=1, probability=0.25)}, sampler=[[6, 9, 7, 1], [0.25, 0.25, 0.25, 0.25]]), 8: SuffixTree(token=8, children={0: SuffixTree(token=0, children={}, nexts={7: Target(token=7, count=1, probability=1.0)}, sampler=[[7], [1.0]])}, nexts={7: Target(token=7, count=1, probability=1.0)}, sampler=[[7], [1.0]]), 5: SuffixTree(token=5, children={1: SuffixTree(token=1, children={}, nexts={1: Target(token=1, count=1, probability=1.0)}, sampler=[[1], [1.0]])}, nexts={1: Target(token=1, count=1, probability=1.0)}, sampler=[[1], [1.0]]), 7: SuffixTree(token=7, children={8: SuffixTree(token=8, children={}, nexts={9: Target(token=9, count=1, probability=1.0)}, sampler=[[9], [1.0]])}, nexts={9: Target(token=9, count=1, probability=1.0)}, sampler=[[9], [1.0]])}, nexts={8: Target(token=8, count=1, probability=0.0625), 9: Target(token=9, count=4, probability=0.25), 3: Target(token=3, count=2, probability=0.125), 6: Target(token=6, count=2, probability=0.125), 1: Target(token=1, count=3, probability=0.1875), 7: Target(token=7, count=2, probability=0.125), 4: Target(token=4, count=1, probability=0.0625), 5: Target(token=5, count=1, probability=0.0625)}, sampler=[[8, 9, 3, 6, 1, 7, 4, 5], [0.0625, 0.25, 0.125, 0.125, 0.1875, 0.125, 0.0625, 0.0625]]), SuffixTree(token=6, children={1: SuffixTree(token=1, children={8: SuffixTree(token=8, children={}, nexts={1: Target(token=1, count=1, probability=1.0)}, sampler=[[1], [1.0]]), 6: SuffixTree(token=6, children={}, nexts={3: Target(token=3, count=1, probability=1.0)}, sampler=[[3], [1.0]]), 0: SuffixTree(token=0, children={}, nexts={5: Target(token=5, count=1, probability=1.0)}, sampler=[[5], [1.0]]), 3: SuffixTree(token=3, children={}, nexts={0: Target(token=0, count=1, probability=1.0)}, sampler=[[0], [1.0]]), 9: SuffixTree(token=9, children={}, nexts={5: Target(token=5, count=1, probability=1.0)}, sampler=[[5], [1.0]])}, nexts={1: Target(token=1, count=1, probability=0.2), 3: Target(token=3, count=1, probability=0.2), 5: Target(token=5, count=2, probability=0.4), 0: Target(token=0, count=1, probability=0.2)}, sampler=[[1, 3, 5, 0], [0.2, 0.2, 0.4, 0.2]]), 8: SuffixTree(token=8, children={0: SuffixTree(token=0, children={}, nexts={4: Target(token=4, count=1, probability=1.0)}, sampler=[[4], [1.0]]), 2: SuffixTree(token=2, children={}, nexts={9: Target(token=9, count=1, probability=1.0)}, sampler=[[9], [1.0]])}, nexts={4: Target(token=4, count=1, probability=0.5), 9: Target(token=9, count=1, probability=0.5)}, sampler=[[4, 9], [0.5, 0.5]]), 0: SuffixTree(token=0, children={4: SuffixTree(token=4, children={}, nexts={0: Target(token=0, count=1, probability=1.0)}, sampler=[[0], [1.0]]), 1: SuffixTree(token=1, children={}, nexts={5: Target(token=5, count=1, probability=1.0)}, sampler=[[5], [1.0]])}, nexts={0: Target(token=0, count=1, probability=0.5), 5: Target(token=5, count=1, probability=0.5)}, sampler=[[0, 5], [0.5, 0.5]]), 5: SuffixTree(token=5, children={0: SuffixTree(token=0, children={}, nexts={1: Target(token=1, count=1, probability=1.0)}, sampler=[[1], [1.0]]), 6: SuffixTree(token=6, children={}, nexts={6: Target(token=6, count=1, probability=1.0)}, sampler=[[6], [1.0]])}, nexts={1: Target(token=1, count=1, probability=0.5), 6: Target(token=6, count=1, probability=0.5)}, sampler=[[1, 6], [0.5, 0.5]]), 7: SuffixTree(token=7, children={8: SuffixTree(token=8, children={}, nexts={9: Target(token=9, count=1, probability=1.0)}, sampler=[[9], [1.0]])}, nexts={9: Target(token=9, count=1, probability=1.0)}, sampler=[[9], [1.0]]), 6: SuffixTree(token=6, children={5: SuffixTree(token=5, children={}, nexts={1: Target(token=1, count=1, probability=1.0)}, sampler=[[1], [1.0]])}, nexts={1: Target(token=1, count=1, probability=1.0)}, sampler=[[1], [1.0]])}, nexts={1: Target(token=1, count=3, probability=0.23076923076923078), 3: Target(token=3, count=1, probability=0.07692307692307693), 5: Target(token=5, count=3, probability=0.23076923076923078), 4: Target(token=4, count=1, probability=0.07692307692307693), 0: Target(token=0, count=2, probability=0.15384615384615385), 9: Target(token=9, count=2, probability=0.15384615384615385), 6: Target(token=6, count=1, probability=0.07692307692307693)}, sampler=[[1, 3, 5, 4, 0, 9, 6], [0.23076923076923078, 0.07692307692307693, 0.23076923076923078, 0.07692307692307693, 0.15384615384615385, 0.15384615384615385, 0.07692307692307693]]), SuffixTree(token=7, children={9: SuffixTree(token=9, children={8: SuffixTree(token=8, children={}, nexts={8: Target(token=8, count=1, probability=1.0)}, sampler=[[8], [1.0]]), 2: SuffixTree(token=2, children={}, nexts={8: Target(token=8, count=1, probability=1.0)}, sampler=[[8], [1.0]])}, nexts={8: Target(token=8, count=2, probability=1.0)}, sampler=[[8], [1.0]]), 3: SuffixTree(token=3, children={6: SuffixTree(token=6, children={}, nexts={9: Target(token=9, count=1, probability=1.0)}, sampler=[[9], [1.0]])}, nexts={9: Target(token=9, count=1, probability=1.0)}, sampler=[[9], [1.0]]), 2: SuffixTree(token=2, children={9: SuffixTree(token=9, children={}, nexts={0: Target(token=0, count=1, probability=1.0)}, sampler=[[0], [1.0]]), 3: SuffixTree(token=3, children={}, nexts={4: Target(token=4, count=1, probability=1.0)}, sampler=[[4], [1.0]]), 4: SuffixTree(token=4, children={}, nexts={7: Target(token=7, count=1, probability=1.0)}, sampler=[[7], [1.0]])}, nexts={0: Target(token=0, count=1, probability=0.3333333333333333), 4: Target(token=4, count=1, probability=0.3333333333333333), 7: Target(token=7, count=1, probability=0.3333333333333333)}, sampler=[[0, 4, 7], [0.3333333333333333, 0.3333333333333333, 0.3333333333333333]]), 5: SuffixTree(token=5, children={8: SuffixTree(token=8, children={}, nexts={7: Target(token=7, count=1, probability=1.0)}, sampler=[[7], [1.0]]), 0: SuffixTree(token=0, children={}, nexts={2: Target(token=2, count=1, probability=1.0)}, sampler=[[2], [1.0]])}, nexts={7: Target(token=7, count=1, probability=0.5), 2: Target(token=2, count=1, probability=0.5)}, sampler=[[7, 2], [0.5, 0.5]]), 7: SuffixTree(token=7, children={5: SuffixTree(token=5, children={}, nexts={4: Target(token=4, count=1, probability=1.0)}, sampler=[[4], [1.0]]), 2: SuffixTree(token=2, children={}, nexts={8: Target(token=8, count=1, probability=1.0)}, sampler=[[8], [1.0]])}, nexts={4: Target(token=4, count=1, probability=0.5), 8: Target(token=8, count=1, probability=0.5)}, sampler=[[4, 8], [0.5, 0.5]]), 4: SuffixTree(token=4, children={9: SuffixTree(token=9, children={}, nexts={2: Target(token=2, count=1, probability=1.0)}, sampler=[[2], [1.0]])}, nexts={2: Target(token=2, count=1, probability=1.0)}, sampler=[[2], [1.0]]), 8: SuffixTree(token=8, children={4: SuffixTree(token=4, children={}, nexts={6: Target(token=6, count=1, probability=1.0)}, sampler=[[6], [1.0]]), 7: SuffixTree(token=7, children={}, nexts={5: Target(token=5, count=1, probability=0.5), 4: Target(token=4, count=1, probability=0.5)}, sampler=[[5, 4], [0.5, 0.5]])}, nexts={6: Target(token=6, count=1, probability=0.3333333333333333), 5: Target(token=5, count=1, probability=0.3333333333333333), 4: Target(token=4, count=1, probability=0.3333333333333333)}, sampler=[[6, 5, 4], [0.3333333333333333, 0.3333333333333333, 0.3333333333333333]]), 1: SuffixTree(token=1, children={9: SuffixTree(token=9, children={}, nexts={1: Target(token=1, count=1, probability=1.0)}, sampler=[[1], [1.0]])}, nexts={1: Target(token=1, count=1, probability=1.0)}, sampler=[[1], [1.0]])}, nexts={8: Target(token=8, count=3, probability=0.2), 9: Target(token=9, count=1, probability=0.06666666666666667), 0: Target(token=0, count=1, probability=0.06666666666666667), 7: Target(token=7, count=2, probability=0.13333333333333333), 4: Target(token=4, count=3, probability=0.2), 2: Target(token=2, count=2, probability=0.13333333333333333), 6: Target(token=6, count=1, probability=0.06666666666666667), 5: Target(token=5, count=1, probability=0.06666666666666667), 1: Target(token=1, count=1, probability=0.06666666666666667)}, sampler=[[8, 9, 0, 7, 4, 2, 6, 5, 1], [0.2, 0.06666666666666667, 0.06666666666666667, 0.13333333333333333, 0.2, 0.13333333333333333, 0.06666666666666667, 0.06666666666666667, 0.06666666666666667]]), SuffixTree(token=8, children={5: SuffixTree(token=5, children={1: SuffixTree(token=1, children={}, nexts={9: Target(token=9, count=1, probability=1.0)}, sampler=[[9], [1.0]])}, nexts={9: Target(token=9, count=1, probability=1.0)}, sampler=[[9], [1.0]]), 7: SuffixTree(token=7, children={9: SuffixTree(token=9, children={}, nexts={1: Target(token=1, count=1, probability=0.5), 7: Target(token=7, count=1, probability=0.5)}, sampler=[[1, 7], [0.5, 0.5]]), 7: SuffixTree(token=7, children={}, nexts={7: Target(token=7, count=1, probability=1.0)}, sampler=[[7], [1.0]])}, nexts={1: Target(token=1, count=1, probability=0.3333333333333333), 7: Target(token=7, count=2, probability=0.6666666666666666)}, sampler=[[1, 7], [0.3333333333333333, 0.6666666666666666]]), 3: SuffixTree(token=3, children={5: SuffixTree(token=5, children={}, nexts={0: Target(token=0, count=1, probability=1.0)}, sampler=[[0], [1.0]])}, nexts={0: Target(token=0, count=1, probability=1.0)}, sampler=[[0], [1.0]]), 0: SuffixTree(token=0, children={8: SuffixTree(token=8, children={}, nexts={6: Target(token=6, count=1, probability=1.0)}, sampler=[[6], [1.0]]), 2: SuffixTree(token=2, children={}, nexts={5: Target(token=5, count=1, probability=1.0)}, sampler=[[5], [1.0]])}, nexts={6: Target(token=6, count=1, probability=0.5), 5: Target(token=5, count=1, probability=0.5)}, sampler=[[6, 5], [0.5, 0.5]]), 4: SuffixTree(token=4, children={7: SuffixTree(token=7, children={}, nexts={8: Target(token=8, count=1, probability=1.0)}, sampler=[[8], [1.0]]), 5: SuffixTree(token=5, children={}, nexts={0: Target(token=0, count=1, probability=1.0)}, sampler=[[0], [1.0]]), 4: SuffixTree(token=4, children={}, nexts={7: Target(token=7, count=1, probability=1.0)}, sampler=[[7], [1.0]])}, nexts={8: Target(token=8, count=1, probability=0.3333333333333333), 0: Target(token=0, count=1, probability=0.3333333333333333), 7: Target(token=7, count=1, probability=0.3333333333333333)}, sampler=[[8, 0, 7], [0.3333333333333333, 0.3333333333333333, 0.3333333333333333]]), 8: SuffixTree(token=8, children={4: SuffixTree(token=4, children={}, nexts={4: Target(token=4, count=1, probability=1.0)}, sampler=[[4], [1.0]])}, nexts={4: Target(token=4, count=1, probability=1.0)}, sampler=[[4], [1.0]]), 2: SuffixTree(token=2, children={7: SuffixTree(token=7, children={}, nexts={6: Target(token=6, count=1, probability=1.0)}, sampler=[[6], [1.0]]), 9: SuffixTree(token=9, children={}, nexts={2: Target(token=2, count=1, probability=1.0)}, sampler=[[2], [1.0]])}, nexts={6: Target(token=6, count=1, probability=0.5), 2: Target(token=2, count=1, probability=0.5)}, sampler=[[6, 2], [0.5, 0.5]]), 1: SuffixTree(token=1, children={6: SuffixTree(token=6, children={}, nexts={1: Target(token=1, count=1, probability=1.0)}, sampler=[[1], [1.0]])}, nexts={1: Target(token=1, count=1, probability=1.0)}, sampler=[[1], [1.0]])}, nexts={9: Target(token=9, count=1, probability=0.07142857142857142), 1: Target(token=1, count=2, probability=0.14285714285714285), 0: Target(token=0, count=2, probability=0.14285714285714285), 6: Target(token=6, count=2, probability=0.14285714285714285), 5: Target(token=5, count=1, probability=0.07142857142857142), 8: Target(token=8, count=1, probability=0.07142857142857142), 4: Target(token=4, count=1, probability=0.07142857142857142), 2: Target(token=2, count=1, probability=0.07142857142857142), 7: Target(token=7, count=3, probability=0.21428571428571427)}, sampler=[[9, 1, 0, 6, 5, 8, 4, 2, 7], [0.07142857142857142, 0.14285714285714285, 0.14285714285714285, 0.14285714285714285, 0.07142857142857142, 0.07142857142857142, 0.07142857142857142, 0.07142857142857142, 0.21428571428571427]]), SuffixTree(token=9, children={8: SuffixTree(token=8, children={5: SuffixTree(token=5, children={}, nexts={7: Target(token=7, count=1, probability=1.0)}, sampler=[[7], [1.0]])}, nexts={7: Target(token=7, count=1, probability=1.0)}, sampler=[[7], [1.0]]), 7: SuffixTree(token=7, children={3: SuffixTree(token=3, children={}, nexts={2: Target(token=2, count=1, probability=1.0)}, sampler=[[2], [1.0]])}, nexts={2: Target(token=2, count=1, probability=1.0)}, sampler=[[2], [1.0]]), 5: SuffixTree(token=5, children={6: SuffixTree(token=6, children={}, nexts={5: Target(token=5, count=1, probability=1.0)}, sampler=[[5], [1.0]]), 9: SuffixTree(token=9, children={}, nexts={9: Target(token=9, count=1, probability=1.0)}, sampler=[[9], [1.0]]), 0: SuffixTree(token=0, children={}, nexts={2: Target(token=2, count=1, probability=1.0)}, sampler=[[2], [1.0]]), 7: SuffixTree(token=7, children={}, nexts={1: Target(token=1, count=1, probability=1.0)}, sampler=[[1], [1.0]])}, nexts={5: Target(token=5, count=1, probability=0.25), 9: Target(token=9, count=1, probability=0.25), 2: Target(token=2, count=1, probability=0.25), 1: Target(token=1, count=1, probability=0.25)}, sampler=[[5, 9, 2, 1], [0.25, 0.25, 0.25, 0.25]]), 4: SuffixTree(token=4, children={1: SuffixTree(token=1, children={}, nexts={5: Target(token=5, count=1, probability=0.5), 1: Target(token=1, count=1, probability=0.5)}, sampler=[[5, 1], [0.5, 0.5]]), 8: SuffixTree(token=8, children={}, nexts={4: Target(token=4, count=1, probability=1.0)}, sampler=[[4], [1.0]])}, nexts={5: Target(token=5, count=1, probability=0.3333333333333333), 4: Target(token=4, count=1, probability=0.3333333333333333), 1: Target(token=1, count=1, probability=0.3333333333333333)}, sampler=[[5, 4, 1], [0.3333333333333333, 0.3333333333333333, 0.3333333333333333]]), 9: SuffixTree(token=9, children={5: SuffixTree(token=5, children={}, nexts={5: Target(token=5, count=1, probability=1.0)}, sampler=[[5], [1.0]]), 3: SuffixTree(token=3, children={}, nexts={1: Target(token=1, count=1, probability=1.0)}, sampler=[[1], [1.0]])}, nexts={5: Target(token=5, count=1, probability=0.5), 1: Target(token=1, count=1, probability=0.5)}, sampler=[[5, 1], [0.5, 0.5]]), 6: SuffixTree(token=6, children={8: SuffixTree(token=8, children={}, nexts={1: Target(token=1, count=1, probability=1.0)}, sampler=[[1], [1.0]]), 7: SuffixTree(token=7, children={}, nexts={4: Target(token=4, count=1, probability=1.0)}, sampler=[[4], [1.0]])}, nexts={1: Target(token=1, count=1, probability=0.5), 4: Target(token=4, count=1, probability=0.5)}, sampler=[[1, 4], [0.5, 0.5]]), 2: SuffixTree(token=2, children={7: SuffixTree(token=7, children={}, nexts={2: Target(token=2, count=1, probability=1.0)}, sampler=[[2], [1.0]]), 1: SuffixTree(token=1, children={}, nexts={7: Target(token=7, count=1, probability=1.0)}, sampler=[[7], [1.0]])}, nexts={2: Target(token=2, count=1, probability=0.5), 7: Target(token=7, count=1, probability=0.5)}, sampler=[[2, 7], [0.5, 0.5]]), 3: SuffixTree(token=3, children={3: SuffixTree(token=3, children={}, nexts={9: Target(token=9, count=1, probability=1.0)}, sampler=[[9], [1.0]]), 4: SuffixTree(token=4, children={}, nexts={3: Target(token=3, count=1, probability=1.0)}, sampler=[[3], [1.0]])}, nexts={9: Target(token=9, count=1, probability=0.5), 3: Target(token=3, count=1, probability=0.5)}, sampler=[[9, 3], [0.5, 0.5]]), 0: SuffixTree(token=0, children={2: SuffixTree(token=2, children={}, nexts={0: Target(token=0, count=1, probability=1.0)}, sampler=[[0], [1.0]])}, nexts={0: Target(token=0, count=1, probability=1.0)}, sampler=[[0], [1.0]])}, nexts={7: Target(token=7, count=2, probability=0.1111111111111111), 2: Target(token=2, count=3, probability=0.16666666666666666), 5: Target(token=5, count=3, probability=0.16666666666666666), 9: Target(token=9, count=2, probability=0.1111111111111111), 4: Target(token=4, count=2, probability=0.1111111111111111), 1: Target(token=1, count=4, probability=0.2222222222222222), 3: Target(token=3, count=1, probability=0.05555555555555555), 0: Target(token=0, count=1, probability=0.05555555555555555)}, sampler=[[7, 2, 5, 9, 4, 1, 3, 0], [0.1111111111111111, 0.16666666666666666, 0.16666666666666666, 0.1111111111111111, 0.1111111111111111, 0.2222222222222222, 0.05555555555555555, 0.05555555555555555]])])"
      ]
     },
     "execution_count": 3,
     "metadata": {},
     "output_type": "execute_result"
    }
   ],
   "source": [
    "L, B, N = 10, 3, 150\n",
    "S = SuffixTreeSet(L)\n",
    "C = [randint(0, L-1) for k in range(N)]\n",
    "Cs = ','.join(str(t) for t in C)\n",
    "for i in range(B, N-1):\n",
    "    S.parse(C[i-B:i], C[i])\n",
    "\n",
    "S.normalize()\n",
    "\n",
    "S"
   ]
  },
  {
   "cell_type": "code",
   "execution_count": 4,
   "id": "ec4c74a8",
   "metadata": {},
   "outputs": [],
   "source": [
    "for p in S.prefixes():\n",
    "    ps = ','.join(str(t) for t in p)\n",
    "    assert ps in Cs, f\"prefix {ps} was not found in corpus\""
   ]
  },
  {
   "cell_type": "code",
   "execution_count": 5,
   "id": "5d079b36",
   "metadata": {},
   "outputs": [
    {
     "data": {
      "text/plain": [
       "[4, 9, 5]"
      ]
     },
     "execution_count": 5,
     "metadata": {},
     "output_type": "execute_result"
    }
   ],
   "source": [
    "choice(S.prefixes())"
   ]
  },
  {
   "cell_type": "code",
   "execution_count": 6,
   "id": "0bff0f8a",
   "metadata": {},
   "outputs": [],
   "source": [
    "S.patterns()\n",
    "for p in S.patterns():\n",
    "    ps = ','.join(str(t) for t in p[0]) + \",\" + str(p[1])\n",
    "    assert ps in Cs, f\"prefix {ps} was not found in corpus\""
   ]
  },
  {
   "cell_type": "code",
   "execution_count": 7,
   "id": "5f4d252a",
   "metadata": {},
   "outputs": [
    {
     "name": "stdout",
     "output_type": "stream",
     "text": [
      "[7, 7, 4]\n"
     ]
    },
    {
     "data": {
      "text/plain": [
       "Counter({9: 10})"
      ]
     },
     "execution_count": 7,
     "metadata": {},
     "output_type": "execute_result"
    }
   ],
   "source": [
    "p = choice(S.prefixes())\n",
    "print(S.search(p))\n",
    "Counter([ S.sample(p) for _ in range(10) ])"
   ]
  },
  {
   "cell_type": "code",
   "execution_count": 8,
   "id": "2317587a",
   "metadata": {},
   "outputs": [
    {
     "data": {
      "text/plain": [
       "CharLanguage(size=65, stot={'\\n': 0, ' ': 1, '!': 2, '$': 3, '&': 4, \"'\": 5, ',': 6, '-': 7, '.': 8, '3': 9, ':': 10, ';': 11, '?': 12, 'A': 13, 'B': 14, 'C': 15, 'D': 16, 'E': 17, 'F': 18, 'G': 19, 'H': 20, 'I': 21, 'J': 22, 'K': 23, 'L': 24, 'M': 25, 'N': 26, 'O': 27, 'P': 28, 'Q': 29, 'R': 30, 'S': 31, 'T': 32, 'U': 33, 'V': 34, 'W': 35, 'X': 36, 'Y': 37, 'Z': 38, 'a': 39, 'b': 40, 'c': 41, 'd': 42, 'e': 43, 'f': 44, 'g': 45, 'h': 46, 'i': 47, 'j': 48, 'k': 49, 'l': 50, 'm': 51, 'n': 52, 'o': 53, 'p': 54, 'q': 55, 'r': 56, 's': 57, 't': 58, 'u': 59, 'v': 60, 'w': 61, 'x': 62, 'y': 63, 'z': 64}, ttos={0: '\\n', 1: ' ', 2: '!', 3: '$', 4: '&', 5: \"'\", 6: ',', 7: '-', 8: '.', 9: '3', 10: ':', 11: ';', 12: '?', 13: 'A', 14: 'B', 15: 'C', 16: 'D', 17: 'E', 18: 'F', 19: 'G', 20: 'H', 21: 'I', 22: 'J', 23: 'K', 24: 'L', 25: 'M', 26: 'N', 27: 'O', 28: 'P', 29: 'Q', 30: 'R', 31: 'S', 32: 'T', 33: 'U', 34: 'V', 35: 'W', 36: 'X', 37: 'Y', 38: 'Z', 39: 'a', 40: 'b', 41: 'c', 42: 'd', 43: 'e', 44: 'f', 45: 'g', 46: 'h', 47: 'i', 48: 'j', 49: 'k', 50: 'l', 51: 'm', 52: 'n', 53: 'o', 54: 'p', 55: 'q', 56: 'r', 57: 's', 58: 't', 59: 'u', 60: 'v', 61: 'w', 62: 'x', 63: 'y', 64: 'z'})"
      ]
     },
     "execution_count": 8,
     "metadata": {},
     "output_type": "execute_result"
    }
   ],
   "source": [
    "with open(\"data/tinywillspeare.txt\", \"r\") as f:\n",
    "    data = f.read()\n",
    "\n",
    "L = CharLanguage.from_corpus(data)\n",
    "L"
   ]
  },
  {
   "cell_type": "code",
   "execution_count": 9,
   "id": "70173c87",
   "metadata": {},
   "outputs": [],
   "source": [
    "S = SuffixTreeSet(L.size)\n",
    "C = L.encode(data)\n",
    "assert L.decode(C) == data"
   ]
  },
  {
   "cell_type": "code",
   "execution_count": null,
   "id": "a9a9587a",
   "metadata": {},
   "outputs": [],
   "source": [
    "started = time()\n",
    "\n",
    "B, N = 5, len(C)\n",
    "for i in range(B, N-1):\n",
    "    S.parse(C[i-B:i], C[i])\n",
    "S.normalize()\n",
    "\n",
    "print(f\"done in {time() - started} seconds\")"
   ]
  },
  {
   "cell_type": "code",
   "execution_count": null,
   "id": "cfe16f8d",
   "metadata": {},
   "outputs": [],
   "source": [
    "started = time()\n",
    "\n",
    "shake = L.decode(0)\n",
    "code = [0]\n",
    "for i in range(1000):\n",
    "    prefix = code if len(code) < B else code[-B:]\n",
    "    code.append(S.sample(prefix)) \n",
    "    shake += L.decode(code[-1])\n",
    "    \n",
    "print(f\"done in {time() - started} seconds\")\n",
    "print(\"- - - - - - - - - - - - - - - - - - - - - - - - - - - - - - - - - - - - \")\n",
    "print(shake)"
   ]
  },
  {
   "cell_type": "code",
   "execution_count": null,
   "id": "95e99a92",
   "metadata": {},
   "outputs": [],
   "source": []
  }
 ],
 "metadata": {
  "kernelspec": {
   "display_name": "Python 3 (ipykernel)",
   "language": "python",
   "name": "python3"
  },
  "language_info": {
   "codemirror_mode": {
    "name": "ipython",
    "version": 3
   },
   "file_extension": ".py",
   "mimetype": "text/x-python",
   "name": "python",
   "nbconvert_exporter": "python",
   "pygments_lexer": "ipython3",
   "version": "3.9.13"
  }
 },
 "nbformat": 4,
 "nbformat_minor": 5
}
